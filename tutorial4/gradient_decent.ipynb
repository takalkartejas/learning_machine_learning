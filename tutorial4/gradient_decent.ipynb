{
 "cells": [
  {
   "cell_type": "code",
   "execution_count": null,
   "metadata": {},
   "outputs": [],
   "source": [
    "import numpy as np\n",
    "import matplotlib.pyplot as plt"
   ]
  },
  {
   "cell_type": "markdown",
   "metadata": {},
   "source": [
    "We will use the gradient decent formulas dervied in the theory in following function\n",
    "   ![image](https://github.com/takalkartejas/learning_machine_learning/assets/67382565/02881d50-ae0f-48e8-b9da-4ab58dd6b940)\n",
    "    ![image](https://github.com/takalkartejas/learning_machine_learning/assets/67382565/1a7db5e8-7e27-4700-807b-03ccee77bb44)"
   ]
  },
  {
   "cell_type": "code",
   "execution_count": null,
   "metadata": {},
   "outputs": [],
   "source": [
    "def gradient_descent(x,y):\n",
    "    m_curr = b_curr = 0 # randomly select starting m and b\n",
    "    iterations = 1000\n",
    "    n = len(x)\n",
    "    learning_rate = 0.08 # keep increasing the learning rate but not that much that the cost will start increasing\n",
    "    # high learning rate minimizes number of iterations\n",
    "\n",
    "    for i in range(iterations):\n",
    "        y_pred = m_curr*x + b_curr # refer above images\n",
    "        cost = 1/n * sum([val**2 for val in (y-y_pred)] )\n",
    "        md = -(2/n)*sum(x*(y- y_pred))\n",
    "        bd = -(2/n)*sum(y - y_pred)\n",
    "        m_curr = m_curr - md*learning_rate\n",
    "        b_curr = b_curr - bd*learning_rate\n",
    "        print(\"m= {},b= {}, iteration= {} cost= {}\".format(m_curr,b_curr,i, cost))\n",
    "    return m_curr, b_curr\n",
    "    "
   ]
  },
  {
   "cell_type": "code",
   "execution_count": null,
   "metadata": {},
   "outputs": [],
   "source": [
    "x = np.array([1,2,3,4,5])\n",
    "y = np.array([5,7,9,11,13])\n",
    "m,b = gradient_descent(x,y)"
   ]
  },
  {
   "cell_type": "code",
   "execution_count": null,
   "metadata": {},
   "outputs": [],
   "source": [
    "def abline(slope, intercept):\n",
    "    \"\"\"Plot a line from slope and intercept\"\"\"\n",
    "    axes = plt.gca()\n",
    "    x_vals = np.array(axes.get_xlim())\n",
    "    y_vals = intercept + slope * x_vals\n",
    "    plt.plot(x_vals, y_vals, '--')"
   ]
  },
  {
   "cell_type": "code",
   "execution_count": null,
   "metadata": {},
   "outputs": [],
   "source": [
    "plt.xlabel('x')\n",
    "plt.ylabel('y')\n",
    "plt.scatter(x, y, color='red', marker='*',)\n",
    "# plt.plot(np.array(df.area), reg.predict(df[['area']]),color='green')\n",
    "abline(m, b)"
   ]
  }
 ],
 "metadata": {
  "kernelspec": {
   "display_name": "Python 3",
   "language": "python",
   "name": "python3"
  },
  "language_info": {
   "codemirror_mode": {
    "name": "ipython",
    "version": 3
   },
   "file_extension": ".py",
   "mimetype": "text/x-python",
   "name": "python",
   "nbconvert_exporter": "python",
   "pygments_lexer": "ipython3",
   "version": "3.8.10"
  },
  "orig_nbformat": 4
 },
 "nbformat": 4,
 "nbformat_minor": 2
}
